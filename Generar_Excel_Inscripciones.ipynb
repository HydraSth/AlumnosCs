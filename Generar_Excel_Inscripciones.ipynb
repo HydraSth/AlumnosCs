{
  "nbformat": 4,
  "nbformat_minor": 0,
  "metadata": {
    "colab": {
      "provenance": []
    },
    "kernelspec": {
      "name": "python3",
      "display_name": "Python 3"
    },
    "language_info": {
      "name": "python"
    }
  },
  "cells": [
    {
      "cell_type": "markdown",
      "source": [
        "## Creamos un dataframe con solicitudes de alumnos generadas aleatoriamente"
      ],
      "metadata": {
        "id": "qjZECZ4GyDqB"
      }
    },
    {
      "cell_type": "code",
      "source": [
        "import pandas as pd\n",
        "import random\n",
        "\n",
        "nombres = [\"Juan\", \"Manuel\", \"Carlos\", \"María\", \"Julieta\", \"Pedro\", \"Victoria\", \"Ana\", \"Manuel\", \"Luisa\", \"Fernando\",\"Alberto\",\"Cecilia\",\"Sofia\",\"Diego\",\"Hugo\"]\n",
        "apellidos = [\"González\", \"Rodríguez\", \"Pérez\", \"Sánchez\", \"Gómez\", \"Torres\", \"Ramos\", \"Romero\", \"Santos\", \"Vargas\",\"Carril\",\"Fernandez\", \"Chavez\",\"Peralta\",\"Martinez\",\"Aguilera\"]\n",
        "nombres_completos = [f\"{random.choice(nombres)} {random.choice(apellidos)}\" for _ in range(200)]\n",
        "edades = [random.randint(6, 12) for _ in range(200)]\n",
        "grados = [edad - 5 for edad in edades]\n",
        "\n",
        "preferencias = [\"Nro. 1 - Toay\", \"Nro. 2 - Santa Rosa\", \"Nro. 3 - Anguil\"]\n",
        "preferencias = [random.choice(preferencias) for _ in range(200)]\n",
        "\n",
        "datos = {\n",
        "    \"nro_inscripcion\": list(range(1, 201)),\n",
        "    \"nombre\": nombres_completos,\n",
        "    \"edad\": edades,\n",
        "    \"grado\": grados,\n",
        "    \"preferencia\": preferencias\n",
        "}\n",
        "\n",
        "df = pd.DataFrame(datos)\n",
        "\n",
        "df\n",
        "\n"
      ],
      "metadata": {
        "id": "W3e4FJpDRCkJ"
      },
      "execution_count": null,
      "outputs": []
    },
    {
      "cell_type": "markdown",
      "source": [
        "##Almacenamos las inscripciones del dataframe en un archivo excel"
      ],
      "metadata": {
        "id": "zHrZnnjcyXCh"
      }
    },
    {
      "cell_type": "code",
      "source": [
        "df.to_excel(\"Inscripciones.xlsx\",index=False)"
      ],
      "metadata": {
        "id": "EbFvgQgJSGR5"
      },
      "execution_count": 5,
      "outputs": []
    },
    {
      "cell_type": "markdown",
      "source": [
        "##Creamos un dataframe para saber las vacantes que debemos cubrir para cada grado"
      ],
      "metadata": {
        "id": "chg_Wkezx2J6"
      }
    },
    {
      "cell_type": "code",
      "source": [
        "vacantes = pd.DataFrame({\"Grado\":[1,2,3,4,5,6,7],\"Vacantes\": df[\"grado\"].value_counts()})\n",
        "vacantes\n"
      ],
      "metadata": {
        "id": "PDANTdfUvyjx"
      },
      "execution_count": null,
      "outputs": []
    },
    {
      "cell_type": "markdown",
      "source": [
        "##Creamos una funcion Repartir() para asignar las vacantes solicitadas por los alumnos entre las 3 escuelas en forma aleatoria \n"
      ],
      "metadata": {
        "id": "9HNoiOlD0Ilq"
      }
    },
    {
      "cell_type": "code",
      "source": [
        "from random import randint\n",
        "\n",
        "def Repartir(vacantes):\n",
        "    division = []\n",
        "    numero_random = randint(1,9 + 1)\n",
        "    numero1 = round( (vacantes/10) * numero_random)\n",
        "    division.append(numero1)\n",
        "    numero_aux = vacantes - numero1\n",
        "    numero_random = randint(1, 8 + 1)\n",
        "    numero2 = round( (numero_aux/10) * numero_random )\n",
        "    division.append(numero2)\n",
        "    numero_aux = numero_aux - numero2\n",
        "    division.append(numero_aux)\n",
        "    return division"
      ],
      "metadata": {
        "id": "TC_5Qai56Qvp"
      },
      "execution_count": 56,
      "outputs": []
    },
    {
      "cell_type": "markdown",
      "source": [
        "##Asignamos en 3 dataframes que se corresponden con cada escuela las vacantes solicitadas mediante la funcion Repartir()"
      ],
      "metadata": {
        "id": "4-FBlEHUIqcf"
      }
    },
    {
      "cell_type": "code",
      "source": [
        "\n",
        "vacantes_toay = []\n",
        "vacantes_santarosa = []\n",
        "vacantes_anguil = []\n",
        "for indice in range(1,7 + 1):\n",
        "    resultado = Repartir(vacantes.loc[vacantes['Grado'] == indice, 'Vacantes'].values[0])\n",
        "    vacantes_toay.append(resultado[0])\n",
        "    vacantes_santarosa.append(resultado[1])\n",
        "    vacantes_anguil.append(resultado[2])\n",
        "colegio_toay =      pd.DataFrame({\"Grado\":[1,2,3,4,5,6,7], \"Vacantes\":vacantes_toay})\n",
        "colegio_santarosa = pd.DataFrame({\"Grado\":[1,2,3,4,5,6,7], \"Vacantes\":vacantes_santarosa})\n",
        "colegio_anguil =    pd.DataFrame({\"Grado\":[1,2,3,4,5,6,7], \"Vacantes\":vacantes_anguil})\n"
      ],
      "metadata": {
        "id": "afYzYTPh_k3C"
      },
      "execution_count": 80,
      "outputs": []
    },
    {
      "cell_type": "markdown",
      "source": [
        "##Mostramos como quedaron cada escuela"
      ],
      "metadata": {
        "id": "6mL5NoP8I3_t"
      }
    },
    {
      "cell_type": "code",
      "source": [
        "colegio_toay"
      ],
      "metadata": {
        "id": "zgvZWBhY0-yZ"
      },
      "execution_count": null,
      "outputs": []
    },
    {
      "cell_type": "code",
      "source": [
        "colegio_santarosa"
      ],
      "metadata": {
        "id": "L-uWdhzs1B6p"
      },
      "execution_count": null,
      "outputs": []
    },
    {
      "cell_type": "code",
      "source": [
        "colegio_anguil"
      ],
      "metadata": {
        "id": "OUn1B5AB1CDw"
      },
      "execution_count": null,
      "outputs": []
    },
    {
      "cell_type": "markdown",
      "source": [
        "##Creamos los 3 excel a partir de los dataframes"
      ],
      "metadata": {
        "id": "rxcs_H5eI9_V"
      }
    },
    {
      "cell_type": "code",
      "source": [
        "colegio_toay.to_excel(\"Colegio_Toay.xlsx\", index=False)\n",
        "colegio_santarosa.to_excel(\"Colegio_SantaRosa.xlsx\", index=False)\n",
        "colegio_anguil.to_excel(\"Colegio_Anguil.xlsx\", index=False)"
      ],
      "metadata": {
        "id": "X3oC88aJJE0g"
      },
      "execution_count": 84,
      "outputs": []
    }
  ]
}